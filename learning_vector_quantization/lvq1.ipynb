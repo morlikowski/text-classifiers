{
 "cells": [
  {
   "cell_type": "markdown",
   "metadata": {},
   "source": [
    "# Learning Vector Quantization applied to text classification\n",
    "\n",
    "Learning Vector Quantization (Kohonen 1986, cf. Kohonen 1998) is a supervised classification approach. \n",
    "LVQ is a prototype-based competitive learning network that learns prototypes\n",
    "by moving 'winning' prototypes into the direction of the respective data point (and moving 'loosing'\n",
    "prototypes in the opposite direction). The prototypes are defined in the feature space of the input data,\n",
    "which makes LVQ models more readily interpretable by domain experts than other neural network approaches.\n",
    "Martín-Valdivia, Ureña-López and García-Vega (2007) applied LVQ to textual data in two different classification tasks,\n",
    "namely text categorization and word sense disambiguation, and showed that it yielded superior performance in comparison\n",
    "to other common algorithms such as Naive Bayes, SVMs and k-NN in their case.\n",
    "\n",
    "Following this line of research, I will report on a experiment in text classfication using the LVQ implementation\n",
    "provided by [Neurolab](https://github.com/zueve/neurolab) ([example](https://pythonhosted.org/neurolab/ex_newlvq.html)). While LVQ exists in various improved variants, \n",
    "Ńeurolab only implements the basic version as originally proposed by Kohonen (LVQ1). There is one major difference tough. Unlike the original learning algorithm, the Neurlab [implementation](https://github.com/zueve/neurolab/blob/master/neurolab/train/lvq.py) does not select training examples randomly. A (far from perfect) workaround is to shuffle the training data before training and do several runs."
   ]
  },
  {
   "cell_type": "markdown",
   "metadata": {},
   "source": [
    "## Dataset - DBMail newsletter\n",
    "\n",
    "The [data set](https://archive.ics.uci.edu/ml/datasets/DBWorld+e-mails) used in the experiment is a collection of emails from the ACM SIGMOD [DBWorld newsletter](https://research.cs.wisc.edu/dbworld/). It was created by then Ph.D. student [Michele Filannino](http://www.michelefilannino.com/) in the context of a machine learning term [paper](https://archive.ics.uci.edu/ml/datasets/%3Ca%20href=%22http://www.cs.man.ac.uk/~filannim/dbworld_email_classification.pdf%22%3E[Web%20Link]%3C/a%3E) (Filannino 2011). The data set contains 64 emails in a bag of words representation, where every row is a vector with all entries set to 1 for all vocabulary words contained in the document (and all others zero). The vocabulary consists of all unique words in the corpus with a minimum length of 3 and a maximum length of 30 characters. The data set is seperated into subsets containing only bodies or subjects, each subset also being available in a [stemmed](http://nlp.stanford.edu/IR-book/html/htmledition/stemming-and-lemmatization-1.html) version, which were produced using Porter's algorithm (Porter 1980). I only use the two subjects data sets in my experiment. The vocabulary has a size (or dimensionality) of 242 (229 stemmed), which makes it a very small data set with relatively high dimensionality. The class lables indicate wheter the email annouces a conference (29 samples, CLASS = 1) or not (35 samples, CLASS = 0)."
   ]
  },
  {
   "cell_type": "markdown",
   "metadata": {},
   "source": [
    "## Imports"
   ]
  },
  {
   "cell_type": "code",
   "execution_count": 1,
   "metadata": {
    "collapsed": false
   },
   "outputs": [],
   "source": [
    "%matplotlib inline\n",
    "\n",
    "import csv\n",
    "from random import shuffle\n",
    "\n",
    "import numpy as np\n",
    "import neurolab as nl\n",
    "from matplotlib import pylab as plt\n",
    "from sklearn.manifold import TSNE"
   ]
  },
  {
   "cell_type": "markdown",
   "metadata": {},
   "source": [
    "## Preprocessing"
   ]
  },
  {
   "cell_type": "markdown",
   "metadata": {},
   "source": [
    "Before training, the data set has to be transformed into a suitable format. While the orignal data comes as a CSV file in which every row also has a CLASS column, it has to be turned into two seperated numpy arrays containing the data and the targets/labels respectively. Additionally, the encoding of the training label values has to match the LVQ structure: In my example I use two prototypes, so the output will also be two dimensional with the value set to one which corresponds to the respective label."
   ]
  },
  {
   "cell_type": "code",
   "execution_count": 2,
   "metadata": {
    "collapsed": false
   },
   "outputs": [],
   "source": [
    "def encode_labels(labels, n_prototypes = 1):\n",
    "    target = []\n",
    "    for label in labels:\n",
    "        if label == 0:\n",
    "            label_encoding = np.concatenate([np.ones(n_prototypes), np.zeros(n_prototypes)])\n",
    "            target.append(label_encoding)\n",
    "        elif  label == 1:\n",
    "            label_encoding = np.concatenate([np.zeros(n_prototypes), np.ones(n_prototypes)])\n",
    "            target.append(label_encoding)\n",
    "    return target\n",
    "\n",
    "def decode_labels(targets):\n",
    "    labels = []\n",
    "    n_prototypes = len(targets[0]) / 2\n",
    "    pos_label = [1]\n",
    "    neg_label = [0]\n",
    "    encoded_label_neg = encode_labels(neg_label, n_prototypes)[0]\n",
    "    encoded_label_pos = encode_labels(pos_label, n_prototypes)[0]\n",
    "    for target in targets:\n",
    "        if np.array_equal(target, encoded_label_neg):\n",
    "            labels.append(0)\n",
    "        elif np.array_equal(target, encoded_label_pos):\n",
    "            labels.append(1)\n",
    "    return labels\n",
    "\n",
    "def load_data(path):\n",
    "    data = []\n",
    "    labels = []\n",
    "    feature_names = []\n",
    "    with open(path) as f:\n",
    "        reader = csv.reader(f, delimiter=',',)\n",
    "        header = reader.next()\n",
    "        feature_names = header[:-1] # header without CLASS\n",
    "        for row in reader:\n",
    "            row_values = map(int, row) # parse string to int\n",
    "            label = row_values.pop()\n",
    "            labels.append(label)\n",
    "            data.append(row_values)\n",
    "    return (data, labels, feature_names)"
   ]
  },
  {
   "cell_type": "code",
   "execution_count": 59,
   "metadata": {
    "collapsed": true
   },
   "outputs": [],
   "source": [
    "original_data, labels, feature_names = load_data('dbworld_subjects_stemmed.csv')"
   ]
  },
  {
   "cell_type": "code",
   "execution_count": 60,
   "metadata": {
    "collapsed": false
   },
   "outputs": [],
   "source": [
    "original_target = encode_labels(labels, 1) "
   ]
  },
  {
   "cell_type": "markdown",
   "metadata": {},
   "source": [
    "To compensate the lack of randomisation in the Neurolab LVQ implementation, the data is  shuffled before training. I've experimented with two approaches. At first, I had a look at the CSV file which seemed to suggest to use the last 20 rows of the data set as test set. Shuffling then was done for train and test set seperately. Later, I also experimented with shuffling the data before splitting into tain and test set. While this can lead to diverging class distributions in the train and test data, I found it to sometimes give better evaluation measures than the standard split. This observation motivates cross-validation."
   ]
  },
  {
   "cell_type": "code",
   "execution_count": 61,
   "metadata": {
    "collapsed": false
   },
   "outputs": [],
   "source": [
    "def shuffle_labeled_data(original_data, original_target):\n",
    "    shuffled = zip(original_data, original_target)\n",
    "    shuffle(shuffled)\n",
    "    data = np.array([data for data, _ in shuffled])\n",
    "    target = np.array([target for _, target in shuffled])\n",
    "    return data, target"
   ]
  },
  {
   "cell_type": "code",
   "execution_count": 62,
   "metadata": {
    "collapsed": false
   },
   "outputs": [],
   "source": [
    "# shuffle the data before applying split into train and test \n",
    "#original_data, original_target = shuffle_labeled_data(original_data, original_target)"
   ]
  },
  {
   "cell_type": "code",
   "execution_count": 63,
   "metadata": {
    "collapsed": false
   },
   "outputs": [],
   "source": [
    "TRAIN_TEST_SPLIT = -14\n",
    "original_train_data = original_data[:TRAIN_TEST_SPLIT]\n",
    "original_train_target = original_target[:TRAIN_TEST_SPLIT]\n",
    "original_test_data = original_data[TRAIN_TEST_SPLIT:]\n",
    "original_test_target = original_target[TRAIN_TEST_SPLIT:]"
   ]
  },
  {
   "cell_type": "code",
   "execution_count": 64,
   "metadata": {
    "collapsed": false
   },
   "outputs": [],
   "source": [
    "train_data, train_target = shuffle_labeled_data(original_train_data, original_train_target)\n",
    "test_data, test_target = shuffle_labeled_data(original_test_data, original_test_target)"
   ]
  },
  {
   "cell_type": "code",
   "execution_count": 65,
   "metadata": {
    "collapsed": false
   },
   "outputs": [
    {
     "name": "stdout",
     "output_type": "stream",
     "text": [
      "train (N,d):  50 229\n",
      "test (N,d):  14 229\n"
     ]
    }
   ],
   "source": [
    "train_N, num_dimensions = train_data.shape\n",
    "test_N, _ = test_data.shape\n",
    "print 'train (N,d): ', train_N, num_dimensions\n",
    "print 'test (N,d): ', test_N, num_dimensions\n"
   ]
  },
  {
   "cell_type": "markdown",
   "metadata": {},
   "source": [
    "## Setting up LVQ and Training\n",
    "\n",
    "The LVQ network has two layers: An input layer which has as many neurons as the data has dimensions and an output layer with as many neurons as there are classes. Each output neuron is connected to all the inputs and the learned weights represent the prototypes or codebook vectors. The two main parameters for training is the number of epochs (how many iterations over the training data) and the learning rate (a factor determining how strongly each update influences the prototype values)."
   ]
  },
  {
   "cell_type": "code",
   "execution_count": 84,
   "metadata": {
    "collapsed": false
   },
   "outputs": [
    {
     "name": "stdout",
     "output_type": "stream",
     "text": [
      "Epoch: 100; Error: 0.5;\n",
      "Epoch: 200; Error: 0.28;\n",
      "The maximum number of train epochs is reached\n"
     ]
    }
   ],
   "source": [
    "net = nl.net.newlvq(nl.tool.minmax(train_data), num_dimensions, [0.5, 0.5])\n",
    "error = net.train(train_data, train_target, epochs=200, lr=0.0001, goal=-1)"
   ]
  },
  {
   "cell_type": "markdown",
   "metadata": {},
   "source": [
    "## Evaluation\n",
    "\n",
    "Using the standard test split, I managed to beat the majority baseline by about 7% accuracy. My general observation is, that the number of epochs and the learning rate need to be balanced to get better accuracies. If one of the parameters is too high, the network will have low error rates on the training data, but will loose some of its capability to generalize. At the same time, if the learning rate and the number of epochs are too small, the network seems not to have the chance to actually adapt the prototypes in way that makes them capture some of the characteristics of the data."
   ]
  },
  {
   "cell_type": "code",
   "execution_count": 88,
   "metadata": {
    "collapsed": false
   },
   "outputs": [],
   "source": [
    "output = net.sim(test_data)"
   ]
  },
  {
   "cell_type": "code",
   "execution_count": 89,
   "metadata": {
    "collapsed": false
   },
   "outputs": [],
   "source": [
    "def majority_baseline(test_target, neg_class):\n",
    "    class_counts = [0,0]\n",
    "    for labels in test_target:\n",
    "        if np.array_equal(labels, neg_class):\n",
    "            class_counts[0] += 1\n",
    "        else:\n",
    "            class_counts[1] += 1\n",
    "    return np.max(class_counts) / float(len(test_target))\n",
    "\n",
    "def evaluate(output, test_target):\n",
    "    right = 0\n",
    "    for i, labels in enumerate(output):\n",
    "        if np.array_equal(labels, test_target[i]):\n",
    "            right += 1\n",
    "    return right / float(len(test_target))"
   ]
  },
  {
   "cell_type": "code",
   "execution_count": 90,
   "metadata": {
    "collapsed": false
   },
   "outputs": [
    {
     "name": "stdout",
     "output_type": "stream",
     "text": [
      "Majority baseline:  0.714285714286\n",
      "Accuracy:  0.785714285714\n"
     ]
    }
   ],
   "source": [
    "n_prototypes = len(test_target[0]) / 2\n",
    "neg_label = encode_labels([0], n_prototypes).pop()\n",
    "print 'Majority baseline: ', majority_baseline(test_target, neg_label)\n",
    "print 'Accuracy: ', evaluate(output, test_target)"
   ]
  },
  {
   "cell_type": "markdown",
   "metadata": {},
   "source": [
    "## Visualizing the prototypes\n",
    "\n",
    "To get a better idea of the learned prototypes, I wanted to analyze them a litte further. First, I tried to visualise them in a two-dimensional projection together with the training and test data to see how they relate. To do this, I picked t-SNE after some reading on suitable methods for text visualisation. There is no clear separation in the projected data, but rather one big cluster. So it seems to make sense that the prototypes sit in the centre, each being closer to one part of the cluster. Looking at the values, we can see that they have the same (relatively close to zero) values, but one is positive and the other negative."
   ]
  },
  {
   "cell_type": "code",
   "execution_count": 96,
   "metadata": {
    "collapsed": true
   },
   "outputs": [],
   "source": [
    "def get_prototypes(net):\n",
    "    return net.layers[1].np['w']"
   ]
  },
  {
   "cell_type": "code",
   "execution_count": 97,
   "metadata": {
    "collapsed": false
   },
   "outputs": [],
   "source": [
    "tsne = TSNE(n_components=2, random_state=0, init='pca')\n",
    "train_embedding = tsne.fit_transform(train_data)\n",
    "test_embedding = tsne.fit_transform(test_data)\n",
    "embedded_protos = tsne.fit_transform(get_prototypes(net))"
   ]
  },
  {
   "cell_type": "code",
   "execution_count": 98,
   "metadata": {
    "collapsed": false
   },
   "outputs": [
    {
     "data": {
      "text/plain": [
       "array([[  7.56637298e+00,   2.24790784e-15],\n",
       "       [ -7.56637298e+00,  -2.24790784e-15]])"
      ]
     },
     "execution_count": 98,
     "metadata": {},
     "output_type": "execute_result"
    }
   ],
   "source": [
    "embedded_protos"
   ]
  },
  {
   "cell_type": "code",
   "execution_count": 99,
   "metadata": {
    "collapsed": false
   },
   "outputs": [
    {
     "data": {
      "image/png": "[encoded data removed]",
      "text/plain": [
       "<matplotlib.figure.Figure at 0x7f69a0314610>"
      ]
     },
     "metadata": {},
     "output_type": "display_data"
    }
   ],
   "source": [
    "plt.figure(figsize=(8,8))\n",
    "plt.plot(train_embedding[:,0], train_embedding[:,1], 'go')\n",
    "plt.plot(test_embedding[:,0], test_embedding[:,1], 'bD')\n",
    "plt.plot(embedded_protos[:,0], embedded_protos[:,1], 'rs')\n",
    "plt.xlim(-500,500)\n",
    "plt.ylim(-500,500)\n",
    "plt.xlabel('embedding dim 1')\n",
    "plt.ylabel('embedding dim 2')\n",
    "plt.legend(['training data', 'test data', 'prototypes'])\n",
    "plt.show()"
   ]
  },
  {
   "cell_type": "markdown",
   "metadata": {},
   "source": [
    "Second, I mapped the prototype vectors back to the (stemmed) bag of words that they represent, including the label that the network would associate with each of the bags. Looking at the words for each label some make immediate sense (e.g. 'cfp' and dates in the conference class and 'job' or 'microsoft' in the no conference class), while others are hard to interpret (e.g. 'chicago' according to the prototypes is a place for conferences while 'zurich' is not)."
   ]
  },
  {
   "cell_type": "code",
   "execution_count": 100,
   "metadata": {
    "collapsed": false
   },
   "outputs": [
    {
     "name": "stdout",
     "output_type": "stream",
     "text": [
      "Conference\n",
      "['10th', '13th', '1st', '2nd', '31st', '3rd', '5th', '6th', 'abstract', 'academ', 'access', 'acm', 'acn', 'advanc', 'aie', 'algorithm', 'analysi', 'analyt', 'antil', 'appli', 'applic', 'area', 'asia', 'assist', 'associ', 'augment', 'australia', 'autonom', 'base', 'big', 'bournemouth', 'call', 'centr', 'certif', 'ceur', 'cfp', 'chicago', 'chile', 'china', 'citi', 'cloud', 'commerc', 'commun', 'comput', 'computation', 'confer', 'constraint', 'cryptographi', 'cse', 'csiro', 'dalian', 'danms\\xe2\\x80\\x9912', 'data', 'databas', 'ddi', 'deadlin', 'delai', 'delft', 'demo', 'deploy', 'deri', 'differenti', 'distribut', 'dmc', 'doc', 'doctor', 'dublin', 'due', 'edbt2012', 'effici', 'electron', 'energi', 'environ', 'er2012', 'event', 'exhibit', 'express', 'extend', 'extens', 'extrem', 'facullti', 'faculti', 'faster', 'fbk', 'fellow', 'fellowship', 'final', 'free', 'fulli', 'fund', 'galwai', 'gener', 'gi', 'graduat', 'hire', 'human', 'icistm2012', 'icsoc', 'ict', 'iir', 'illinoi', 'imag', 'inaugur', 'indiana', 'industri', 'inform', 'institut', 'intellig', 'intens', 'interest', 'intern', 'invoc', 'issu', 'iswpc']\n",
      "No Conference\n",
      "['itali', 'itc', 'jnit', 'job', 'journal', 'juli', 'june', 'knowledg', 'lab', 'label', 'languag', 'lectur', 'level', 'link', 'louvain', 'maarten', 'manag', 'march', 'microsoft', 'mine', 'mobil', 'mobiwi', 'multimod', 'multipl', 'natur', 'ndt', 'netherland', 'network', 'nmr', 'nom', 'nov', 'novemb', 'npa', 'nui', 'oct', 'octob', 'onlin', 'ontolog', 'open', 'opportun', 'org', 'orient', 'padua', 'pakdd', 'panel', 'paper', 'pari', 'particip', 'pervas', 'phd', 'posit', 'post', 'postdoc', 'postdoctor', 'postion', 'privaci', 'proceed', 'process', 'professor', 'program', 'project', 'propos', 'protocol', 'proven', 'reason', 'remind', 'represent', 'research', 'retriev', 'risk', 'scienc', 'scientif', 'secur', 'semant', 'senior', 'sensor', 'servic', 'session', 'sigmod', 'smpe', 'soa', 'social', 'spain', 'spatial', 'special', 'steven', 'stream', 'studentship', 'submiss', 'symposuim', 'system', 'technic', 'technolog', 'tempor', 'tenur', 'tist', 'tomorrow', 'track', 'trento', 'trust', 'tue', 'tutori', 'ubiquit', 'unit', 'univers', 'usa', 'vacanc', 'valencia', 'vehicular', 'video', 'web', 'wireless', 'workflow', 'workshop', 'zurich']\n"
     ]
    }
   ],
   "source": [
    "def get_prototype_words_and_labels(net, feature_names):\n",
    "    # the prototypes are the weights of the second layer\n",
    "    labeled_bags_of_words = []\n",
    "    prototypes = net.layers[1].np['w']\n",
    "    for prototype in prototypes:\n",
    "        bag_of_words = []\n",
    "        for index, entry in enumerate(prototype):\n",
    "            if entry == 1:\n",
    "                bag_of_words.append(feature_names[index])\n",
    "        predicted = net.sim([prototype])\n",
    "        label = decode_labels(predicted)[0]\n",
    "        label_string = 'Conference' if label  == 1 else 'No Conference'\n",
    "        labeled_bags_of_words.append((label_string, bag_of_words))\n",
    "    return labeled_bags_of_words\n",
    "\n",
    "labeled_bags_of_words = get_prototype_words_and_labels(net, feature_names)\n",
    "for label, bag_of_words in labeled_bags_of_words:\n",
    "    print label\n",
    "    print bag_of_words"
   ]
  },
  {
   "cell_type": "markdown",
   "metadata": {
    "collapsed": true
   },
   "source": [
    "## K-fold cross-validation\n",
    "\n",
    "As pointed out above, different splits of test and training data give very different evaluation results, especially in this small data set. To compensate for this, I'll use k-fold cross-validation. This means splitting the data into k parts and using each as test set in turn with the others being used as training data. On average, the LVQ classifier is 10% less accurate than the majority baseline. There is, however, one split in which it is above than the majority baseline by about 9%. Running k-fold cross-validation for several times showed, that training with higher learning rates and less epochs gives better averaged accuracy in this case."
   ]
  },
  {
   "cell_type": "code",
   "execution_count": 104,
   "metadata": {
    "collapsed": false
   },
   "outputs": [
    {
     "name": "stdout",
     "output_type": "stream",
     "text": [
      "k: 3\n",
      "run: 1\n",
      "train range:  21 - 64\n",
      "test range:  0 - 21\n",
      "Epoch: 100; Error: 0.046511627907;\n",
      "The maximum number of train epochs is reached\n",
      "Majority baseline:  1.0\n",
      "Accuracy:  0.952380952381\n",
      "run: 2\n",
      "train range:  0 - 21  |  42 - 64\n",
      "test range:  21 - 42\n",
      "Epoch: 100; Error: 0.279069767442;\n",
      "The maximum number of train epochs is reached\n",
      "Majority baseline:  0.809523809524\n",
      "Accuracy:  0.190476190476\n",
      "run: 3\n",
      "train range:  0 - 42  |  63 - 64\n",
      "test range:  42 - 63\n",
      "Epoch: 100; Error: 0.395348837209;\n",
      "The maximum number of train epochs is reached\n",
      "Majority baseline:  0.571428571429\n",
      "Accuracy:  0.666666666667\n",
      "###\n",
      "Average majority baseline:  0.793650793651\n",
      "Average accuracy:  0.603174603175\n"
     ]
    }
   ],
   "source": [
    "def crossvalidation(data, target, k, epochs, learning_rate):\n",
    "    \n",
    "    split = len(data) / k\n",
    "    \n",
    "    accuracy_values = []\n",
    "    baseline_values = []\n",
    "    \n",
    "    print 'k:', k \n",
    "\n",
    "    for i in range(k):\n",
    "        test_start = i * split\n",
    "        test_end = (i+1) * split\n",
    "        train_start = test_end\n",
    "        train_end = len(data)\n",
    "\n",
    "        test_data = data[test_start:test_end]\n",
    "        train_data = data[train_start:train_end]\n",
    "        \n",
    "        test_target = target[test_start:test_end]\n",
    "        train_target = target[train_start:train_end]\n",
    "        \n",
    "        second_train_start = 0\n",
    "        second_train_end = 0\n",
    "        \n",
    "        print 'run:', i + 1\n",
    "\n",
    "        if i > 0:\n",
    "            second_train_end = test_start\n",
    "            train_data = np.vstack([train_data, data[second_train_start:second_train_end]])\n",
    "            train_target = np.vstack([train_target, target[second_train_start:second_train_end]])\n",
    "            print 'train range: ', second_train_start, '-', second_train_end, ' | ', train_start, '-' , train_end\n",
    "        else:\n",
    "            print 'train range: ', train_start, '-' , train_end\n",
    "            \n",
    "        print 'test range: ', test_start, '-', test_end\n",
    "            \n",
    "        net = nl.net.newlvq(nl.tool.minmax(train_data), 229, [.5, .5])\n",
    "        error = net.train(train_data, train_target, epochs=epochs, lr=learning_rate, goal=-1)\n",
    "        \n",
    "        output = net.sim(test_data)\n",
    "        n_prototypes = len(test_target[0]) / 2\n",
    "        neg_label = encode_labels([0], n_prototypes).pop()\n",
    "        baseline = majority_baseline(test_target, neg_label)\n",
    "        print 'Majority baseline: ', baseline\n",
    "        baseline_values.append(baseline)\n",
    "        accuracy = evaluate(output, test_target)\n",
    "        print 'Accuracy: ', accuracy\n",
    "        accuracy_values.append(accuracy)\n",
    "    avg_accuracy = sum(accuracy_values) / float(k)\n",
    "    avg_baseline = sum(baseline_values) / float(k)\n",
    "    print '###'\n",
    "    print 'Average majority baseline: ', avg_baseline\n",
    "    print 'Average accuracy: ', avg_accuracy\n",
    "\n",
    "crossvalidation(original_data, original_target, 3, 150, 0.1)"
   ]
  },
  {
   "cell_type": "markdown",
   "metadata": {},
   "source": [
    "## Conclusion\n",
    "\n",
    "Limited by technology choice, need for more evolved implementations\n",
    "\n",
    "prevent static (guessed) train/test split 0.25\n",
    "\n",
    "more analysis on prototypes\n"
   ]
  },
  {
   "cell_type": "markdown",
   "metadata": {},
   "source": [
    "## References\n",
    "\n",
    "Kohonen, T.: 1986, Learning vector quantization for pattern recognition, Technical Report TKK-\n",
    "F-A601, Helsinki Univeristy of Technology, Espoo, Finland.\n",
    "\n",
    "Kohonen, T.: 1998, Learning vector quantization, The handbook of brain theory and neural net-\n",
    "works, MIT Press, Cambridge, MA, USA, pp. 537–540\n",
    "\n",
    "Martín-Valdivia, M. T., Ureña-López, L. A., & García-Vega, M.: 2007, The Learning Vector Quantization Algorithm Applied to\n",
    "Automatic Text Classification Tasks. Neural Netw., 20(6), 748–756. http://doi.org/10.1016/j.neunet.2006.12.005\n",
    "\n",
    "Michele Filannino, 'DBWorld e-mail classification using a very small corpus', Project of Machine Learning course, University of Manchester, 2011.\n",
    "\n",
    "Neurolab. Retrieved July 8, 2016, from https://github.com/zueve/neurolab\n",
    "\n",
    "Porter, Martin F. 1980. An algorithm for suffix stripping. Program 14 (3): 130-137. "
   ]
  }
 ],
 "metadata": {
  "kernelspec": {
   "display_name": "py2",
   "language": "python",
   "name": "py2"
  },
  "language_info": {
   "codemirror_mode": {
    "name": "ipython",
    "version": 2
   },
   "file_extension": ".py",
   "mimetype": "text/x-python",
   "name": "python",
   "nbconvert_exporter": "python",
   "pygments_lexer": "ipython2",
   "version": "2.7.10"
  }
 },
 "nbformat": 4,
 "nbformat_minor": 0
}
