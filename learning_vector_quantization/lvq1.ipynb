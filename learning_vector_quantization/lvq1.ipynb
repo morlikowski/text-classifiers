{
 "cells": [
  {
   "cell_type": "markdown",
   "metadata": {},
   "source": [
    "# Learning Vector Quantization applied to text classification\n",
    "\n",
    "Learning Vector Quantization (Kohonen 1986, cf. Kohonen 1998) is a supervised classification approach. \n",
    "LVQ is a prototype-based competitive learning network that learns prototypes\n",
    "by moving 'winning' prototypes into the direction of the respective data point (and moving 'loosing'\n",
    "prototypes in the opposite direction). The prototypes are defined in the feature space of the input data,\n",
    "which makes LVQ models more readily interpretable by domain experts than other neural network approaches.\n",
    "Martín-Valdivia, Ureña-López and García-Vega (2007) applied LVQ to textual data in two different classification tasks,\n",
    "namely text categorization and word sense disambiguation, and showed that it yields superior performance in comparison\n",
    "to other common algorithms such as Naive Bayes, SVMs and k-NN.\n",
    "\n",
    "Following this line of research, I will report on a experiment in text classfication using the LVQ implementation\n",
    "provided by [Neurolab](https://github.com/zueve/neurolab) ([example](https://pythonhosted.org/neurolab/ex_newlvq.html)). While LVQ exists in various improved variants, \n",
    "Ńeurolab only implements the basic version as originally proposed by Kohonen (LVQ1). There is one major difference tough. Unlike the original learning algorithm, the Neurlab [implementation](https://github.com/zueve/neurolab/blob/master/neurolab/train/lvq.py) does not select training examples randomly. A workaround is to shuffle the training data before training and do several runs."
   ]
  },
  {
   "cell_type": "markdown",
   "metadata": {},
   "source": [
    "## Dataset - DBMail newsletter\n",
    "\n",
    "The [data set](https://archive.ics.uci.edu/ml/datasets/DBWorld+e-mails) used in the experiment is a collection of emails from the ACM SIGMOD [DBWorld newsletter](https://research.cs.wisc.edu/dbworld/). It was created by [Michele Filannino](http://www.michelefilannino.com/) in the context of a machine learning term [paper](https://archive.ics.uci.edu/ml/datasets/%3Ca%20href=%22http://www.cs.man.ac.uk/~filannim/dbworld_email_classification.pdf%22%3E[Web%20Link]%3C/a%3E) (Filannino 2011). The data set contains 64 emails in one-hot representation seperated into subsets containing only bodies or subjects. Each subset is also available in a [stemmed](http://nlp.stanford.edu/IR-book/html/htmledition/stemming-and-lemmatization-1.html) version, which was produced using Porter's algorithm (Porter 1980). The size of the vocabulary (or dimensionality) is..."
   ]
  },
  {
   "cell_type": "markdown",
   "metadata": {},
   "source": [
    "## Imports"
   ]
  },
  {
   "cell_type": "code",
   "execution_count": 1,
   "metadata": {
    "collapsed": false
   },
   "outputs": [],
   "source": [
    "%matplotlib inline\n",
    "\n",
    "import csv\n",
    "from random import shuffle\n",
    "\n",
    "import numpy as np\n",
    "import neurolab as nl\n",
    "from matplotlib import pylab as plt\n",
    "from sklearn.manifold import TSNE"
   ]
  },
  {
   "cell_type": "markdown",
   "metadata": {},
   "source": [
    "## Preprocessing"
   ]
  },
  {
   "cell_type": "code",
   "execution_count": 56,
   "metadata": {
    "collapsed": false
   },
   "outputs": [],
   "source": [
    "def encode_labels(labels):\n",
    "    target = []\n",
    "    for label in labels:\n",
    "        if label == 0.0:\n",
    "            target.append([1.0,1.0,0.0,0.0])\n",
    "        elif  label == 1.0:\n",
    "            target.append([0.0,0.0,1.0,1.0])\n",
    "    return target\n",
    "\n",
    "def decode_labels(targets):\n",
    "    labels = []\n",
    "    for target in targets:\n",
    "        if np.array_equal(target, [1.0,1.0,0.0,0.0]):\n",
    "            labels.append(0.0)\n",
    "        elif np.array_equal(target, [0.0,0.0,1.0,1.0]):\n",
    "            labels.append(1.0)\n",
    "    return labels\n",
    "\n",
    "def load_data(path):\n",
    "    data = []\n",
    "    labels = []\n",
    "    feature_names = []\n",
    "    with open(path) as f:\n",
    "        reader = csv.reader(f, delimiter=',',)\n",
    "        header = reader.next()\n",
    "        feature_names = header[:-1] # header without CLASS\n",
    "        for row in reader:\n",
    "            row_values = map(float, row)\n",
    "            label = row_values.pop()\n",
    "            labels.append(label)\n",
    "            data.append(row_values)\n",
    "    return (data, encode_labels(labels), feature_names)"
   ]
  },
  {
   "cell_type": "code",
   "execution_count": 57,
   "metadata": {
    "collapsed": true
   },
   "outputs": [],
   "source": [
    "TRAIN_TEST_SPLIT = -14"
   ]
  },
  {
   "cell_type": "code",
   "execution_count": 58,
   "metadata": {
    "collapsed": false
   },
   "outputs": [],
   "source": [
    "original_data, original_target, feature_names = load_data('dbworld_subjects.csv')\n",
    "original_train_data = original_data[:TRAIN_TEST_SPLIT]\n",
    "original_train_target = original_target[:TRAIN_TEST_SPLIT]\n",
    "original_test_data = original_data[TRAIN_TEST_SPLIT:]\n",
    "original_test_target = original_target[TRAIN_TEST_SPLIT:]"
   ]
  },
  {
   "cell_type": "code",
   "execution_count": 59,
   "metadata": {
    "collapsed": false
   },
   "outputs": [],
   "source": [
    "def shuffle_labeled_data(original_data, original_target):\n",
    "    shuffled = zip(original_data, original_target)\n",
    "    shuffle(shuffled)\n",
    "    data = np.array([data for data, _ in shuffled])\n",
    "    target = np.array([target for _, target in shuffled])\n",
    "    return data, target"
   ]
  },
  {
   "cell_type": "code",
   "execution_count": 60,
   "metadata": {
    "collapsed": false
   },
   "outputs": [],
   "source": [
    "train_data, train_target = shuffle_labeled_data(original_train_data, original_train_target)\n",
    "test_data, test_target = shuffle_labeled_data(original_test_data, original_test_target)"
   ]
  },
  {
   "cell_type": "code",
   "execution_count": 61,
   "metadata": {
    "collapsed": false
   },
   "outputs": [
    {
     "name": "stdout",
     "output_type": "stream",
     "text": [
      "train (N,d):  50 242\n",
      "test (N,d):  14 242\n"
     ]
    }
   ],
   "source": [
    "train_N, num_dimensions = train_data.shape\n",
    "test_N, _ = test_data.shape\n",
    "print 'train (N,d): ', train_N, num_dimensions\n",
    "print 'test (N,d): ', test_N, num_dimensions\n"
   ]
  },
  {
   "cell_type": "markdown",
   "metadata": {},
   "source": [
    "## Setting up LVQ "
   ]
  },
  {
   "cell_type": "markdown",
   "metadata": {},
   "source": [
    "Create network with 2 layers: d neurons (i.e. as man neurons as dimensions) in input layer (competitive) and 2 neurons (i.e. as many neurons as classes) in output layer (perceptrons with linear transition)"
   ]
  },
  {
   "cell_type": "code",
   "execution_count": 62,
   "metadata": {
    "collapsed": false
   },
   "outputs": [
    {
     "name": "stdout",
     "output_type": "stream",
     "text": [
      "Epoch: 100; Error: 0.5;\n",
      "Epoch: 200; Error: 0.52;\n",
      "Epoch: 300; Error: 0.5;\n",
      "Epoch: 400; Error: 0.5;\n",
      "Epoch: 500; Error: 0.5;\n",
      "The maximum number of train epochs is reached\n"
     ]
    }
   ],
   "source": [
    "net = nl.net.newlvq(nl.tool.minmax(train_data), num_dimensions, [0.25, 0.25, 0.25, 0.25])\n",
    "error = net.train(train_data, train_target, epochs=500, lr=0.1, goal=0.3)"
   ]
  },
  {
   "cell_type": "markdown",
   "metadata": {},
   "source": [
    "## Visualization"
   ]
  },
  {
   "cell_type": "code",
   "execution_count": 63,
   "metadata": {
    "collapsed": true
   },
   "outputs": [],
   "source": [
    "def get_prototypes(net):\n",
    "    return net.layers[1].np['w']"
   ]
  },
  {
   "cell_type": "code",
   "execution_count": 64,
   "metadata": {
    "collapsed": false
   },
   "outputs": [],
   "source": [
    "tsne = TSNE(n_components=2, random_state=0, init='pca')\n",
    "train_embedding = tsne.fit_transform(train_data)\n",
    "test_embedding = tsne.fit_transform(test_data)\n",
    "embedded_protos = tsne.fit_transform(get_prototypes(net))"
   ]
  },
  {
   "cell_type": "code",
   "execution_count": 65,
   "metadata": {
    "collapsed": false
   },
   "outputs": [
    {
     "name": "stdout",
     "output_type": "stream",
     "text": [
      "[[ 107.34167508   95.35297326]\n",
      " [ -96.69950742  -95.31120762]\n",
      " [ -86.53072151   98.26667099]\n",
      " [  97.10576068  -98.22222511]]\n"
     ]
    }
   ],
   "source": [
    "print embedded_protos"
   ]
  },
  {
   "cell_type": "code",
   "execution_count": 66,
   "metadata": {
    "collapsed": false
   },
   "outputs": [
    {
     "data": {
      "image/png": "[encoded data removed]",
      "text/plain": [
       "<matplotlib.figure.Figure at 0x7f35f4aa22d0>"
      ]
     },
     "metadata": {},
     "output_type": "display_data"
    }
   ],
   "source": [
    "plt.figure(figsize=(8,8))\n",
    "plt.plot(train_embedding[:,0], train_embedding[:,1], 'go')\n",
    "plt.plot(test_embedding[:,0], test_embedding[:,1], 'rs')\n",
    "plt.plot(embedded_protos[:,0], embedded_protos[:,1], 'bD')\n",
    "plt.xlim(-500,500)\n",
    "plt.ylim(-500,500)\n",
    "plt.xlabel('embedding dim 1')\n",
    "plt.ylabel('embedding dim 2')\n",
    "plt.legend(['training data', 'test data', 'prototypes'])\n",
    "plt.show()"
   ]
  },
  {
   "cell_type": "markdown",
   "metadata": {},
   "source": [
    "## Evaluation"
   ]
  },
  {
   "cell_type": "code",
   "execution_count": 67,
   "metadata": {
    "collapsed": false
   },
   "outputs": [],
   "source": [
    "output = net.sim(test_data)"
   ]
  },
  {
   "cell_type": "code",
   "execution_count": 68,
   "metadata": {
    "collapsed": false
   },
   "outputs": [
    {
     "name": "stdout",
     "output_type": "stream",
     "text": [
      "Majority baseline:  0.714285714286\n"
     ]
    }
   ],
   "source": [
    "class_counts = [0,0]\n",
    "for labels in test_target:\n",
    "    if np.array_equal(labels, [1.0, 1.0, 0.0, 0.0]):\n",
    "        class_counts[0] += 1\n",
    "    else:\n",
    "        class_counts[1] += 1\n",
    "print 'Majority baseline: ', np.max(class_counts) / float(len(test_target))"
   ]
  },
  {
   "cell_type": "code",
   "execution_count": 69,
   "metadata": {
    "collapsed": false
   },
   "outputs": [
    {
     "name": "stdout",
     "output_type": "stream",
     "text": [
      "Accuracy:  0.0\n"
     ]
    }
   ],
   "source": [
    "def evaluate(output, test_target):\n",
    "    right = 0\n",
    "    for i, labels in enumerate(output):\n",
    "        if np.array_equal(labels, test_target[i]):\n",
    "            right += 1\n",
    "    print 'Accuracy: ', right / float(len(test_target))\n",
    "evaluate(output, test_target)"
   ]
  },
  {
   "cell_type": "code",
   "execution_count": 70,
   "metadata": {
    "collapsed": false
   },
   "outputs": [
    {
     "ename": "IndexError",
     "evalue": "list index out of range",
     "output_type": "error",
     "traceback": [
      "\u001b[0;31m---------------------------------------------------------------------------\u001b[0m",
      "\u001b[0;31mIndexError\u001b[0m                                Traceback (most recent call last)",
      "\u001b[0;32m<ipython-input-70-1ac393d96024>\u001b[0m in \u001b[0;36m<module>\u001b[0;34m()\u001b[0m\n\u001b[1;32m     12\u001b[0m     \u001b[0;32mreturn\u001b[0m \u001b[0mlabeled_bags_of_words\u001b[0m\u001b[0;34m\u001b[0m\u001b[0m\n\u001b[1;32m     13\u001b[0m \u001b[0;34m\u001b[0m\u001b[0m\n\u001b[0;32m---> 14\u001b[0;31m \u001b[0mlabeled_bags_of_words\u001b[0m \u001b[0;34m=\u001b[0m \u001b[0mget_prototype_words_and_labels\u001b[0m\u001b[0;34m(\u001b[0m\u001b[0mnet\u001b[0m\u001b[0;34m,\u001b[0m \u001b[0mfeature_names\u001b[0m\u001b[0;34m)\u001b[0m\u001b[0;34m\u001b[0m\u001b[0m\n\u001b[0m\u001b[1;32m     15\u001b[0m \u001b[0;32mfor\u001b[0m \u001b[0mlabel\u001b[0m\u001b[0;34m,\u001b[0m \u001b[0mbag_of_words\u001b[0m \u001b[0;32min\u001b[0m \u001b[0mlabeled_bags_of_words\u001b[0m\u001b[0;34m:\u001b[0m\u001b[0;34m\u001b[0m\u001b[0m\n\u001b[1;32m     16\u001b[0m     \u001b[0;32mprint\u001b[0m \u001b[0mlabel\u001b[0m\u001b[0;34m\u001b[0m\u001b[0m\n",
      "\u001b[0;32m<ipython-input-70-1ac393d96024>\u001b[0m in \u001b[0;36mget_prototype_words_and_labels\u001b[0;34m(net, feature_names)\u001b[0m\n\u001b[1;32m      8\u001b[0m             \u001b[0;32mif\u001b[0m \u001b[0mentry\u001b[0m \u001b[0;34m==\u001b[0m \u001b[0;36m1\u001b[0m\u001b[0;34m:\u001b[0m\u001b[0;34m\u001b[0m\u001b[0m\n\u001b[1;32m      9\u001b[0m                 \u001b[0mbag_of_words\u001b[0m\u001b[0;34m.\u001b[0m\u001b[0mappend\u001b[0m\u001b[0;34m(\u001b[0m\u001b[0mfeature_names\u001b[0m\u001b[0;34m[\u001b[0m\u001b[0mindex\u001b[0m\u001b[0;34m]\u001b[0m\u001b[0;34m)\u001b[0m\u001b[0;34m\u001b[0m\u001b[0m\n\u001b[0;32m---> 10\u001b[0;31m         \u001b[0mlabel\u001b[0m \u001b[0;34m=\u001b[0m \u001b[0;34m'CFP'\u001b[0m \u001b[0;32mif\u001b[0m \u001b[0mdecode_labels\u001b[0m\u001b[0;34m(\u001b[0m\u001b[0mnet\u001b[0m\u001b[0;34m.\u001b[0m\u001b[0msim\u001b[0m\u001b[0;34m(\u001b[0m\u001b[0;34m[\u001b[0m\u001b[0mprototype\u001b[0m\u001b[0;34m]\u001b[0m\u001b[0;34m)\u001b[0m\u001b[0;34m)\u001b[0m\u001b[0;34m[\u001b[0m\u001b[0;36m0\u001b[0m\u001b[0;34m]\u001b[0m \u001b[0;34m==\u001b[0m \u001b[0;36m1\u001b[0m \u001b[0;32melse\u001b[0m \u001b[0;34m'NON-CFP'\u001b[0m\u001b[0;34m\u001b[0m\u001b[0m\n\u001b[0m\u001b[1;32m     11\u001b[0m         \u001b[0mlabeled_bags_of_words\u001b[0m\u001b[0;34m.\u001b[0m\u001b[0mappend\u001b[0m\u001b[0;34m(\u001b[0m\u001b[0;34m(\u001b[0m\u001b[0mlabel\u001b[0m\u001b[0;34m,\u001b[0m \u001b[0mbag_of_words\u001b[0m\u001b[0;34m)\u001b[0m\u001b[0;34m)\u001b[0m\u001b[0;34m\u001b[0m\u001b[0m\n\u001b[1;32m     12\u001b[0m     \u001b[0;32mreturn\u001b[0m \u001b[0mlabeled_bags_of_words\u001b[0m\u001b[0;34m\u001b[0m\u001b[0m\n",
      "\u001b[0;31mIndexError\u001b[0m: list index out of range"
     ]
    }
   ],
   "source": [
    "def get_prototype_words_and_labels(net, feature_names):\n",
    "    # the prototypes are the weights of the second layer\n",
    "    labeled_bags_of_words = []\n",
    "    prototypes = net.layers[1].np['w']\n",
    "    for prototype in prototypes:\n",
    "        bag_of_words = []\n",
    "        for index, entry in enumerate(prototype):\n",
    "            if entry == 1:\n",
    "                bag_of_words.append(feature_names[index])\n",
    "        label = 'CFP' if decode_labels(net.sim([prototype]))[0] == 1 else 'NON-CFP'\n",
    "        labeled_bags_of_words.append((label, bag_of_words))\n",
    "    return labeled_bags_of_words\n",
    "\n",
    "labeled_bags_of_words = get_prototype_words_and_labels(net, feature_names)\n",
    "for label, bag_of_words in labeled_bags_of_words:\n",
    "    print label\n",
    "    print bag_of_words"
   ]
  },
  {
   "cell_type": "code",
   "execution_count": 48,
   "metadata": {
    "collapsed": false
   },
   "outputs": [
    {
     "ename": "NameError",
     "evalue": "name 'data' is not defined",
     "output_type": "error",
     "traceback": [
      "\u001b[0;31m---------------------------------------------------------------------------\u001b[0m",
      "\u001b[0;31mNameError\u001b[0m                                 Traceback (most recent call last)",
      "\u001b[0;32m<ipython-input-48-484b27a9dbb3>\u001b[0m in \u001b[0;36m<module>\u001b[0;34m()\u001b[0m\n\u001b[1;32m     36\u001b[0m         \u001b[0mevaluate\u001b[0m\u001b[0;34m(\u001b[0m\u001b[0moutput\u001b[0m\u001b[0;34m,\u001b[0m \u001b[0mtest_target\u001b[0m\u001b[0;34m)\u001b[0m\u001b[0;34m\u001b[0m\u001b[0m\n\u001b[1;32m     37\u001b[0m \u001b[0;34m\u001b[0m\u001b[0m\n\u001b[0;32m---> 38\u001b[0;31m \u001b[0mcrossfold\u001b[0m\u001b[0;34m(\u001b[0m\u001b[0mdata\u001b[0m\u001b[0;34m,\u001b[0m \u001b[0mtarget\u001b[0m\u001b[0;34m,\u001b[0m \u001b[0;36m3\u001b[0m\u001b[0;34m,\u001b[0m \u001b[0;36m200\u001b[0m\u001b[0;34m)\u001b[0m\u001b[0;34m\u001b[0m\u001b[0m\n\u001b[0m",
      "\u001b[0;31mNameError\u001b[0m: name 'data' is not defined"
     ]
    }
   ],
   "source": [
    "def crossfold(data, target, k, epochs):\n",
    "    \n",
    "    split = len(data) / k\n",
    "\n",
    "    for i in range(k):\n",
    "        test_start = i * split\n",
    "        test_end = (i+1) * split\n",
    "        train_start = test_end\n",
    "        train_end = len(data)\n",
    "\n",
    "        test_data = data[test_start:test_end]\n",
    "        train_data = data[train_start:train_end]\n",
    "        \n",
    "        test_target = target[test_start:test_end]\n",
    "        train_target = target[train_start:train_end]\n",
    "        \n",
    "        second_train_start = 0\n",
    "        second_train_end = 0\n",
    "        \n",
    "        print 'k: ', i\n",
    "\n",
    "        if i > 0:\n",
    "            second_train_end = test_start\n",
    "            train_data = np.vstack([train_data, data[second_train_start:second_train_end]])\n",
    "            train_target = np.vstack([train_target, target[second_train_start:second_train_end]])\n",
    "            print 'train range: ', second_train_start, '-', second_train_end, ' | ', train_start, '-' , train_end\n",
    "        else:\n",
    "            print 'train range: ', train_start, '-' , train_end\n",
    "            \n",
    "        print 'test range: ', test_start, '-', test_end\n",
    "            \n",
    "        net = nl.net.newlvq(nl.tool.minmax(train_data), 242, [.5, .5])\n",
    "        error = net.train(train_data, train_target, epochs=epochs, lr=0.1, goal=-1)\n",
    "        \n",
    "        output = net.sim(test_data)\n",
    "        evaluate(output, test_target)\n",
    "\n",
    "crossfold(data, target, 3, 200)"
   ]
  },
  {
   "cell_type": "markdown",
   "metadata": {},
   "source": [
    "## Conclusion\n",
    "\n",
    "Limited by technology choice, need for more evolved implementations"
   ]
  },
  {
   "cell_type": "markdown",
   "metadata": {},
   "source": [
    "## References\n",
    "\n",
    "Kohonen, T.: 1986, Learning vector quantization for pattern recognition, Technical Report TKK-\n",
    "F-A601, Helsinki Univeristy of Technology, Espoo, Finland.\n",
    "\n",
    "Kohonen, T.: 1998, Learning vector quantization, The handbook of brain theory and neural net-\n",
    "works, MIT Press, Cambridge, MA, USA, pp. 537–540\n",
    "\n",
    "Martín-Valdivia, M. T., Ureña-López, L. A., & García-Vega, M.: 2007, The Learning Vector Quantization Algorithm Applied to\n",
    "Automatic Text Classification Tasks. Neural Netw., 20(6), 748–756. http://doi.org/10.1016/j.neunet.2006.12.005\n",
    "\n",
    "Michele Filannino, 'DBWorld e-mail classification using a very small corpus', Project of Machine Learning course, University of Manchester, 2011.\n",
    "\n",
    "Neurolab. Retrieved July 8, 2016, from https://github.com/zueve/neurolab\n",
    "\n",
    "Porter, Martin F. 1980. An algorithm for suffix stripping. Program 14 (3): 130-137. "
   ]
  },
  {
   "cell_type": "markdown",
   "metadata": {},
   "source": []
  }
 ],
 "metadata": {
  "kernelspec": {
   "display_name": "py2",
   "language": "python",
   "name": "py2"
  },
  "language_info": {
   "codemirror_mode": {
    "name": "ipython",
    "version": 2
   },
   "file_extension": ".py",
   "mimetype": "text/x-python",
   "name": "python",
   "nbconvert_exporter": "python",
   "pygments_lexer": "ipython2",
   "version": "2.7.10"
  }
 },
 "nbformat": 4,
 "nbformat_minor": 0
}
